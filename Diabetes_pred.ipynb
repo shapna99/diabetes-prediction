{
  "nbformat": 4,
  "nbformat_minor": 0,
  "metadata": {
    "colab": {
      "name": "Diabetes_pred.ipynb",
      "provenance": []
    },
    "kernelspec": {
      "display_name": "Python 3",
      "name": "python3"
    }
  },
  "cells": [
    {
      "cell_type": "code",
      "metadata": {
        "id": "LrtW_DX6RYbt"
      },
      "source": [
        "# MY lackings:\n",
        "#iLOC, data slicing"
      ],
      "execution_count": null,
      "outputs": []
    },
    {
      "cell_type": "code",
      "metadata": {
        "id": "b_RbUIYGKhMF"
      },
      "source": [
        "import numpy as np \n",
        "import pandas as pd \n",
        "from sklearn.model_selection import train_test_split\n",
        "from sklearn.preprocessing import StandardScaler\n",
        "from sklearn.neighbors import KNeighborsClassifier\n",
        "from sklearn.metrics import confusion_matrix\n",
        "from sklearn.metrics import accuracy_score\n",
        "import pickle"
      ],
      "execution_count": null,
      "outputs": []
    },
    {
      "cell_type": "code",
      "metadata": {
        "id": "oJ_N587yNLfD"
      },
      "source": [
        "df = pd.read_csv(\"/content/diabetes_train.csv\")"
      ],
      "execution_count": null,
      "outputs": []
    },
    {
      "cell_type": "code",
      "metadata": {
        "colab": {
          "base_uri": "https://localhost:8080/",
          "height": 200
        },
        "id": "VNATD4YSNT8i",
        "outputId": "e18d93fe-8d54-41db-d463-d59d9b01e0c2"
      },
      "source": [
        "df.head()"
      ],
      "execution_count": null,
      "outputs": [
        {
          "output_type": "execute_result",
          "data": {
            "text/html": [
              "<div>\n",
              "<style scoped>\n",
              "    .dataframe tbody tr th:only-of-type {\n",
              "        vertical-align: middle;\n",
              "    }\n",
              "\n",
              "    .dataframe tbody tr th {\n",
              "        vertical-align: top;\n",
              "    }\n",
              "\n",
              "    .dataframe thead th {\n",
              "        text-align: right;\n",
              "    }\n",
              "</style>\n",
              "<table border=\"1\" class=\"dataframe\">\n",
              "  <thead>\n",
              "    <tr style=\"text-align: right;\">\n",
              "      <th></th>\n",
              "      <th>id</th>\n",
              "      <th>Pregnancies</th>\n",
              "      <th>Glucose</th>\n",
              "      <th>BloodPressure</th>\n",
              "      <th>SkinThickness</th>\n",
              "      <th>Insulin</th>\n",
              "      <th>BMI</th>\n",
              "      <th>DiabetesPedigreeFunction</th>\n",
              "      <th>Age</th>\n",
              "      <th>Outcome</th>\n",
              "    </tr>\n",
              "  </thead>\n",
              "  <tbody>\n",
              "    <tr>\n",
              "      <th>0</th>\n",
              "      <td>1129</td>\n",
              "      <td>2</td>\n",
              "      <td>100</td>\n",
              "      <td>64</td>\n",
              "      <td>23</td>\n",
              "      <td>0</td>\n",
              "      <td>29.7</td>\n",
              "      <td>0.368</td>\n",
              "      <td>21</td>\n",
              "      <td>0</td>\n",
              "    </tr>\n",
              "    <tr>\n",
              "      <th>1</th>\n",
              "      <td>1598</td>\n",
              "      <td>3</td>\n",
              "      <td>99</td>\n",
              "      <td>54</td>\n",
              "      <td>19</td>\n",
              "      <td>86</td>\n",
              "      <td>25.6</td>\n",
              "      <td>0.154</td>\n",
              "      <td>24</td>\n",
              "      <td>0</td>\n",
              "    </tr>\n",
              "    <tr>\n",
              "      <th>2</th>\n",
              "      <td>726</td>\n",
              "      <td>12</td>\n",
              "      <td>88</td>\n",
              "      <td>74</td>\n",
              "      <td>40</td>\n",
              "      <td>54</td>\n",
              "      <td>35.3</td>\n",
              "      <td>0.378</td>\n",
              "      <td>48</td>\n",
              "      <td>0</td>\n",
              "    </tr>\n",
              "    <tr>\n",
              "      <th>3</th>\n",
              "      <td>632</td>\n",
              "      <td>4</td>\n",
              "      <td>122</td>\n",
              "      <td>68</td>\n",
              "      <td>0</td>\n",
              "      <td>0</td>\n",
              "      <td>35.0</td>\n",
              "      <td>0.394</td>\n",
              "      <td>29</td>\n",
              "      <td>0</td>\n",
              "    </tr>\n",
              "    <tr>\n",
              "      <th>4</th>\n",
              "      <td>1748</td>\n",
              "      <td>1</td>\n",
              "      <td>181</td>\n",
              "      <td>78</td>\n",
              "      <td>42</td>\n",
              "      <td>293</td>\n",
              "      <td>40.0</td>\n",
              "      <td>1.258</td>\n",
              "      <td>22</td>\n",
              "      <td>1</td>\n",
              "    </tr>\n",
              "  </tbody>\n",
              "</table>\n",
              "</div>"
            ],
            "text/plain": [
              "     id  Pregnancies  Glucose  ...  DiabetesPedigreeFunction  Age  Outcome\n",
              "0  1129            2      100  ...                     0.368   21        0\n",
              "1  1598            3       99  ...                     0.154   24        0\n",
              "2   726           12       88  ...                     0.378   48        0\n",
              "3   632            4      122  ...                     0.394   29        0\n",
              "4  1748            1      181  ...                     1.258   22        1\n",
              "\n",
              "[5 rows x 10 columns]"
            ]
          },
          "metadata": {
            "tags": []
          },
          "execution_count": 106
        }
      ]
    },
    {
      "cell_type": "code",
      "metadata": {
        "id": "tTdRNeQ3NYLM"
      },
      "source": [
        "df.drop(['id'], axis=1,inplace=True)"
      ],
      "execution_count": null,
      "outputs": []
    },
    {
      "cell_type": "code",
      "metadata": {
        "colab": {
          "base_uri": "https://localhost:8080/",
          "height": 200
        },
        "id": "PlBuKoLBOBfR",
        "outputId": "2362666e-07c1-4891-c198-8841c1751113"
      },
      "source": [
        "df.head()"
      ],
      "execution_count": null,
      "outputs": [
        {
          "output_type": "execute_result",
          "data": {
            "text/html": [
              "<div>\n",
              "<style scoped>\n",
              "    .dataframe tbody tr th:only-of-type {\n",
              "        vertical-align: middle;\n",
              "    }\n",
              "\n",
              "    .dataframe tbody tr th {\n",
              "        vertical-align: top;\n",
              "    }\n",
              "\n",
              "    .dataframe thead th {\n",
              "        text-align: right;\n",
              "    }\n",
              "</style>\n",
              "<table border=\"1\" class=\"dataframe\">\n",
              "  <thead>\n",
              "    <tr style=\"text-align: right;\">\n",
              "      <th></th>\n",
              "      <th>Pregnancies</th>\n",
              "      <th>Glucose</th>\n",
              "      <th>BloodPressure</th>\n",
              "      <th>SkinThickness</th>\n",
              "      <th>Insulin</th>\n",
              "      <th>BMI</th>\n",
              "      <th>DiabetesPedigreeFunction</th>\n",
              "      <th>Age</th>\n",
              "      <th>Outcome</th>\n",
              "    </tr>\n",
              "  </thead>\n",
              "  <tbody>\n",
              "    <tr>\n",
              "      <th>0</th>\n",
              "      <td>2</td>\n",
              "      <td>100</td>\n",
              "      <td>64</td>\n",
              "      <td>23</td>\n",
              "      <td>0</td>\n",
              "      <td>29.7</td>\n",
              "      <td>0.368</td>\n",
              "      <td>21</td>\n",
              "      <td>0</td>\n",
              "    </tr>\n",
              "    <tr>\n",
              "      <th>1</th>\n",
              "      <td>3</td>\n",
              "      <td>99</td>\n",
              "      <td>54</td>\n",
              "      <td>19</td>\n",
              "      <td>86</td>\n",
              "      <td>25.6</td>\n",
              "      <td>0.154</td>\n",
              "      <td>24</td>\n",
              "      <td>0</td>\n",
              "    </tr>\n",
              "    <tr>\n",
              "      <th>2</th>\n",
              "      <td>12</td>\n",
              "      <td>88</td>\n",
              "      <td>74</td>\n",
              "      <td>40</td>\n",
              "      <td>54</td>\n",
              "      <td>35.3</td>\n",
              "      <td>0.378</td>\n",
              "      <td>48</td>\n",
              "      <td>0</td>\n",
              "    </tr>\n",
              "    <tr>\n",
              "      <th>3</th>\n",
              "      <td>4</td>\n",
              "      <td>122</td>\n",
              "      <td>68</td>\n",
              "      <td>0</td>\n",
              "      <td>0</td>\n",
              "      <td>35.0</td>\n",
              "      <td>0.394</td>\n",
              "      <td>29</td>\n",
              "      <td>0</td>\n",
              "    </tr>\n",
              "    <tr>\n",
              "      <th>4</th>\n",
              "      <td>1</td>\n",
              "      <td>181</td>\n",
              "      <td>78</td>\n",
              "      <td>42</td>\n",
              "      <td>293</td>\n",
              "      <td>40.0</td>\n",
              "      <td>1.258</td>\n",
              "      <td>22</td>\n",
              "      <td>1</td>\n",
              "    </tr>\n",
              "  </tbody>\n",
              "</table>\n",
              "</div>"
            ],
            "text/plain": [
              "   Pregnancies  Glucose  BloodPressure  ...  DiabetesPedigreeFunction  Age  Outcome\n",
              "0            2      100             64  ...                     0.368   21        0\n",
              "1            3       99             54  ...                     0.154   24        0\n",
              "2           12       88             74  ...                     0.378   48        0\n",
              "3            4      122             68  ...                     0.394   29        0\n",
              "4            1      181             78  ...                     1.258   22        1\n",
              "\n",
              "[5 rows x 9 columns]"
            ]
          },
          "metadata": {
            "tags": []
          },
          "execution_count": 108
        }
      ]
    },
    {
      "cell_type": "code",
      "metadata": {
        "colab": {
          "base_uri": "https://localhost:8080/"
        },
        "id": "2AOTtO9zOShC",
        "outputId": "8f4211ae-a164-4299-e297-268515516871"
      },
      "source": [
        "df.isnull().sum()"
      ],
      "execution_count": null,
      "outputs": [
        {
          "output_type": "execute_result",
          "data": {
            "text/plain": [
              "Pregnancies                 0\n",
              "Glucose                     0\n",
              "BloodPressure               0\n",
              "SkinThickness               0\n",
              "Insulin                     0\n",
              "BMI                         0\n",
              "DiabetesPedigreeFunction    0\n",
              "Age                         0\n",
              "Outcome                     0\n",
              "dtype: int64"
            ]
          },
          "metadata": {
            "tags": []
          },
          "execution_count": 109
        }
      ]
    },
    {
      "cell_type": "code",
      "metadata": {
        "id": "mnwlE6mOPWly"
      },
      "source": [
        "X = df.iloc[:,0:8].values"
      ],
      "execution_count": null,
      "outputs": []
    },
    {
      "cell_type": "code",
      "metadata": {
        "colab": {
          "base_uri": "https://localhost:8080/"
        },
        "id": "ie3z4kO0POty",
        "outputId": "11f58491-64b3-4ec2-9cea-59afbf847b08"
      },
      "source": [
        "X"
      ],
      "execution_count": null,
      "outputs": [
        {
          "output_type": "execute_result",
          "data": {
            "text/plain": [
              "array([[2.00e+00, 1.00e+02, 6.40e+01, ..., 2.97e+01, 3.68e-01, 2.10e+01],\n",
              "       [3.00e+00, 9.90e+01, 5.40e+01, ..., 2.56e+01, 1.54e-01, 2.40e+01],\n",
              "       [1.20e+01, 8.80e+01, 7.40e+01, ..., 3.53e+01, 3.78e-01, 4.80e+01],\n",
              "       ...,\n",
              "       [8.00e+00, 1.94e+02, 8.00e+01, ..., 2.61e+01, 5.51e-01, 6.70e+01],\n",
              "       [5.00e+00, 1.32e+02, 8.00e+01, ..., 2.68e+01, 1.86e-01, 6.90e+01],\n",
              "       [4.00e+00, 1.18e+02, 7.00e+01, ..., 4.45e+01, 9.04e-01, 2.60e+01]])"
            ]
          },
          "metadata": {
            "tags": []
          },
          "execution_count": 111
        }
      ]
    },
    {
      "cell_type": "code",
      "metadata": {
        "id": "3224I4QlQH_j",
        "colab": {
          "base_uri": "https://localhost:8080/"
        },
        "outputId": "cd996cb2-e573-41cc-e179-929559203497"
      },
      "source": [
        "X.shape"
      ],
      "execution_count": null,
      "outputs": [
        {
          "output_type": "execute_result",
          "data": {
            "text/plain": [
              "(1500, 8)"
            ]
          },
          "metadata": {
            "tags": []
          },
          "execution_count": 112
        }
      ]
    },
    {
      "cell_type": "code",
      "metadata": {
        "id": "c0XtlhZmQZ5G"
      },
      "source": [
        "Y = df.iloc[:,8].values"
      ],
      "execution_count": null,
      "outputs": []
    },
    {
      "cell_type": "code",
      "metadata": {
        "colab": {
          "base_uri": "https://localhost:8080/"
        },
        "id": "ft-BQRLDQdZR",
        "outputId": "61e49461-a627-43cd-8f15-f0e797212655"
      },
      "source": [
        "Y"
      ],
      "execution_count": null,
      "outputs": [
        {
          "output_type": "execute_result",
          "data": {
            "text/plain": [
              "array([0, 0, 0, ..., 0, 0, 0])"
            ]
          },
          "metadata": {
            "tags": []
          },
          "execution_count": 114
        }
      ]
    },
    {
      "cell_type": "code",
      "metadata": {
        "id": "PdGriOSdbnDn"
      },
      "source": [
        "X_train, X_test, Y_train, Y_test = train_test_split(X,Y,test_size=0.2, random_state=0)"
      ],
      "execution_count": null,
      "outputs": []
    },
    {
      "cell_type": "code",
      "metadata": {
        "colab": {
          "base_uri": "https://localhost:8080/"
        },
        "id": "GYDU7DhocdMl",
        "outputId": "37bf3ac3-c402-48a5-e258-ba80fbadce3e"
      },
      "source": [
        "X_train.shape, X_test.shape, Y_train.shape, Y_test.shape"
      ],
      "execution_count": null,
      "outputs": [
        {
          "output_type": "execute_result",
          "data": {
            "text/plain": [
              "((1200, 8), (300, 8), (1200,), (300,))"
            ]
          },
          "metadata": {
            "tags": []
          },
          "execution_count": 120
        }
      ]
    },
    {
      "cell_type": "code",
      "metadata": {
        "id": "-cpLjtEVcxpz"
      },
      "source": [
        "S = StandardScaler()\n",
        "X_train = S.fit_transform(X_train)\n",
        "X_test = S.fit_transform(X_test)"
      ],
      "execution_count": null,
      "outputs": []
    },
    {
      "cell_type": "code",
      "metadata": {
        "colab": {
          "base_uri": "https://localhost:8080/"
        },
        "id": "ocbB0xfxeVsL",
        "outputId": "6a95de9b-4743-49ac-e024-99277ccdb1da"
      },
      "source": [
        "X_test"
      ],
      "execution_count": null,
      "outputs": [
        {
          "output_type": "execute_result",
          "data": {
            "text/plain": [
              "array([[ 0.31268883,  0.76526645,  0.6641245 , ...,  0.09157133,\n",
              "        -0.01789908,  1.86907185],\n",
              "       [-0.88230033,  0.3097507 ,  0.10236506, ..., -0.61134618,\n",
              "         0.04918054, -0.93687421],\n",
              "       [ 0.01394154, -0.08069136,  0.10236506, ...,  1.53197606,\n",
              "         1.4981002 , -0.62510243],\n",
              "       ...,\n",
              "       [-0.88230033, -1.60992278, -0.27214124, ..., -1.08379893,\n",
              "        -0.13864238, -0.62510243],\n",
              "       [ 1.2089307 , -0.50367026,  1.50676368, ...,  1.39369721,\n",
              "        -0.73229697,  0.85581355],\n",
              "       [ 1.50767799, -0.27591239,  0.6641245 , ..., -0.34631171,\n",
              "         2.76590491,  1.24552828]])"
            ]
          },
          "metadata": {
            "tags": []
          },
          "execution_count": 124
        }
      ]
    },
    {
      "cell_type": "code",
      "metadata": {
        "colab": {
          "base_uri": "https://localhost:8080/"
        },
        "id": "9Z1dqLQ5glRy",
        "outputId": "d66c45ad-6cfd-457d-dbc0-3da2b5fbfd74"
      },
      "source": [
        "model = KNeighborsClassifier(n_neighbors=5,metric='minkowski',p=2)\n",
        "model.fit(X_train,Y_train)\n"
      ],
      "execution_count": null,
      "outputs": [
        {
          "output_type": "execute_result",
          "data": {
            "text/plain": [
              "KNeighborsClassifier(algorithm='auto', leaf_size=30, metric='minkowski',\n",
              "                     metric_params=None, n_jobs=None, n_neighbors=5, p=2,\n",
              "                     weights='uniform')"
            ]
          },
          "metadata": {
            "tags": []
          },
          "execution_count": 128
        }
      ]
    },
    {
      "cell_type": "code",
      "metadata": {
        "id": "J4tHQYhsg6zB"
      },
      "source": [
        "y_pred =model.predict(X_test)"
      ],
      "execution_count": null,
      "outputs": []
    },
    {
      "cell_type": "code",
      "metadata": {
        "id": "DOG30HDFjoii"
      },
      "source": [
        "Conf_metric = confusion_matrix(Y_test,y_pred)"
      ],
      "execution_count": null,
      "outputs": []
    },
    {
      "cell_type": "code",
      "metadata": {
        "id": "jS86SYzsj7HH"
      },
      "source": [
        "ACC_metric = accuracy_score(Y_test,y_pred)"
      ],
      "execution_count": null,
      "outputs": []
    },
    {
      "cell_type": "code",
      "metadata": {
        "id": "s1ifCVZQh4N0"
      },
      "source": [
        "with open('Diabetes_pickle.pkl','wb') as f:\n",
        "  pickle.dump(model,f)"
      ],
      "execution_count": null,
      "outputs": []
    },
    {
      "cell_type": "code",
      "metadata": {
        "id": "ktaXDq98lFOG"
      },
      "source": [
        "with open('Diabetes_pickle.pkl','rb') as f:\n",
        "  m =pickle.load(f)"
      ],
      "execution_count": null,
      "outputs": []
    }
  ]
}